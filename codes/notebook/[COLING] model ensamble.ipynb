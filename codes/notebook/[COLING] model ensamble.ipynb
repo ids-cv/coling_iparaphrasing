{
 "cells": [
  {
   "cell_type": "code",
   "execution_count": 1,
   "metadata": {},
   "outputs": [
    {
     "name": "stdout",
     "output_type": "stream",
     "text": [
      "/home/mayu-ot/Documents/iparaphrasing-master\n"
     ]
    }
   ],
   "source": [
    "% cd /home/mayu-ot/Documents/iparaphrasing-master/"
   ]
  },
  {
   "cell_type": "code",
   "execution_count": 2,
   "metadata": {
    "collapsed": true
   },
   "outputs": [],
   "source": [
    "%matplotlib inline\n",
    "import matplotlib.pyplot as plt"
   ]
  },
  {
   "cell_type": "code",
   "execution_count": 3,
   "metadata": {
    "collapsed": true
   },
   "outputs": [],
   "source": [
    "import pandas as pd\n",
    "import numpy as np\n",
    "from sklearn.metrics import f1_score, precision_score, recall_score, precision_recall_curve"
   ]
  },
  {
   "cell_type": "code",
   "execution_count": 4,
   "metadata": {
    "collapsed": true
   },
   "outputs": [],
   "source": [
    "# validation set\n",
    "split = 'val'\n",
    "p_type = 'avr'\n",
    "res1 = pd.read_csv('models/%s-None/res_%s.csv'%(p_type, split))\n",
    "res2 = pd.read_csv('models/%s-vgg/res_%s.csv'%(p_type, split))\n",
    "\n",
    "p_score = res1.score.values\n",
    "i_score = res2.score.values\n",
    "\n",
    "ens_score = (p_score + i_score) * .5"
   ]
  },
  {
   "cell_type": "code",
   "execution_count": 5,
   "metadata": {},
   "outputs": [
    {
     "data": {
      "text/plain": [
       "<matplotlib.text.Text at 0x2b42fcfbea50>"
      ]
     },
     "execution_count": 5,
     "metadata": {},
     "output_type": "execute_result"
    },
    {
     "data": {
      "image/png": "[encoded data removed]",
      "text/plain": [
       "<matplotlib.figure.Figure at 0x2b42ea20bbd0>"
      ]
     },
     "metadata": {},
     "output_type": "display_data"
    }
   ],
   "source": [
    "y_true = res1.ytrue\n",
    "precision, recall, thres = precision_recall_curve(y_true=y_true, probas_pred=ens_score)\n",
    "\n",
    "plt.clf()\n",
    "plt.step(recall, precision, color='b', alpha=0.2,\n",
    "     where='post')\n",
    "plt.fill_between(recall, precision, step='post', alpha=0.2,\n",
    "                color='b')\n",
    "\n",
    "plt.xlabel('Recall')\n",
    "plt.ylabel('Precision')\n",
    "plt.ylim([0.0, 1.05])\n",
    "plt.xlim([0.0, 1.0])\n",
    "\n",
    "f1 = 2. * (precision * recall) / (precision + recall)\n",
    "f1[np.isnan(f1)] = 0.\n",
    "best_idx = f1.argmax()\n",
    "best_prec, best_rec, best_thres = precision[best_idx], recall[best_idx], thres[best_idx]\n",
    "\n",
    "summary = 'best thres=%.4f\\nf1=%.4f\\nprec=%.4f\\nrec=%.4f'%(best_thres, f1[best_idx], best_prec, best_rec)\n",
    "plt.text(.75, .8, summary)"
   ]
  },
  {
   "cell_type": "code",
   "execution_count": 6,
   "metadata": {
    "collapsed": true
   },
   "outputs": [],
   "source": [
    "ens_res = res1.copy()\n",
    "ens_res.score = ens_score\n",
    "ens_res.ypred = ens_score > best_thres"
   ]
  },
  {
   "cell_type": "code",
   "execution_count": 7,
   "metadata": {},
   "outputs": [
    {
     "name": "stdout",
     "output_type": "stream",
     "text": [
      "predefined thres=0.4564\n",
      "f1=82.67\n",
      "prec=80.65\n",
      "rec=84.79\n"
     ]
    }
   ],
   "source": [
    "# test set\n",
    "split = 'test'\n",
    "res1 = pd.read_csv('models/%s-None/res_%s.csv'%(p_type, split))\n",
    "res2 = pd.read_csv('models/%s-vgg/res_%s.csv'%(p_type, split))\n",
    "\n",
    "p_score = res1.score.values\n",
    "i_score = res2.score.values\n",
    "\n",
    "ens_score = (p_score + i_score) * .5\n",
    "\n",
    "y_true = res1.ytrue\n",
    "y_pred = ens_score\n",
    "\n",
    "best_prec = precision_score(y_true, y_pred > best_thres)\n",
    "best_rec = recall_score(y_true, y_pred > best_thres)\n",
    "f1 = f1_score(y_true, y_pred > best_thres)\n",
    "\n",
    "summary = 'predefined thres=%.4f\\nf1=%.2f\\nprec=%.2f\\nrec=%.2f'%(best_thres, 100*f1, 100*best_prec, 100*best_rec)\n",
    "print(summary)"
   ]
  },
  {
   "cell_type": "code",
   "execution_count": null,
   "metadata": {
    "collapsed": true
   },
   "outputs": [],
   "source": []
  }
 ],
 "metadata": {
  "kernelspec": {
   "display_name": "Python 2",
   "language": "python",
   "name": "python2"
  },
  "language_info": {
   "codemirror_mode": {
    "name": "ipython",
    "version": 2
   },
   "file_extension": ".py",
   "mimetype": "text/x-python",
   "name": "python",
   "nbconvert_exporter": "python",
   "pygments_lexer": "ipython2",
   "version": "2.7.13"
  },
  "widgets": {
   "state": {},
   "version": "1.1.2"
  }
 },
 "nbformat": 4,
 "nbformat_minor": 2
}
