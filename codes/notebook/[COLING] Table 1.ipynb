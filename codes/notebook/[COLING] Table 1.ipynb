{
 "cells": [
  {
   "cell_type": "code",
   "execution_count": 1,
   "metadata": {},
   "outputs": [
    {
     "name": "stdout",
     "output_type": "stream",
     "text": [
      "/home/mayu-ot/Documents/iparaphrasing-master\n"
     ]
    }
   ],
   "source": [
    "% cd /home/mayu-ot/Documents/iparaphrasing-master/"
   ]
  },
  {
   "cell_type": "code",
   "execution_count": 2,
   "metadata": {
    "collapsed": true
   },
   "outputs": [],
   "source": [
    "import pandas as pd\n",
    "import numpy as np\n",
    "import sklearn.metrics"
   ]
  },
  {
   "cell_type": "code",
   "execution_count": 3,
   "metadata": {
    "collapsed": true
   },
   "outputs": [],
   "source": [
    "val_df = pd.read_csv('models/fv+cca-vgg/res_val.csv')\n",
    "test_df = pd.read_csv('models/fv+cca-vgg/res_test.csv')"
   ]
  },
  {
   "cell_type": "code",
   "execution_count": 4,
   "metadata": {
    "collapsed": true
   },
   "outputs": [],
   "source": [
    "# split validation set\n",
    "val_mult_idx = []\n",
    "val_single_idx = []\n",
    "\n",
    "for i, row in val_df.iterrows():\n",
    "    phr1 = row['phrase1']\n",
    "    phr2 = row['phrase2']\n",
    "    \n",
    "    if ('+' in phr1) and ('+' in phr2):\n",
    "        val_mult_idx.append(i)\n",
    "    elif ('+' not in phr1) and ('+' not in phr2):\n",
    "        val_single_idx.append(i)\n",
    "\n",
    "# split test set\n",
    "test_mult_idx = []\n",
    "test_single_idx = []\n",
    "\n",
    "for i, row in test_df.iterrows():\n",
    "    phr1 = row['phrase1']\n",
    "    phr2 = row['phrase2']\n",
    "    \n",
    "    if ('+' in phr1) and ('+' in phr2):\n",
    "        test_mult_idx.append(i)\n",
    "    elif ('+' not in phr1) and ('+' not in phr2):\n",
    "        test_single_idx.append(i)"
   ]
  },
  {
   "cell_type": "code",
   "execution_count": 5,
   "metadata": {},
   "outputs": [
    {
     "name": "stdout",
     "output_type": "stream",
     "text": [
      "[Single word examples] prec: 0.8065, rec: 0.8210, f1: 0.8137\n",
      "[Single word examples] prec: 0.8452, rec: 0.8185, f1: 0.8316\n"
     ]
    }
   ],
   "source": [
    "# eval on single word examples\n",
    "single_examples = val_df.iloc[val_single_idx]\n",
    "score = single_examples.score\n",
    "ytrue = single_examples.ytrue\n",
    "\n",
    "prec, rec, thresh = sklearn.metrics.precision_recall_curve(y_true=ytrue, probas_pred=score)\n",
    "f1 = 2 * (prec * rec) / (prec + rec)\n",
    "f1[np.isnan(f1)] = 0.\n",
    "best_i = f1.argmax()\n",
    "best_thresh = thresh[best_i]\n",
    "\n",
    "print('[Single word examples] prec: %.4f, rec: %.4f, f1: %.4f'%(prec[best_i], rec[best_i], f1[best_i]))\n",
    "\n",
    "# eval_on multple word examples\n",
    "single_examples = test_df.iloc[test_single_idx]\n",
    "score = single_examples.score\n",
    "ytrue = single_examples.ytrue\n",
    "\n",
    "s_prec = sklearn.metrics.precision_score(y_true=ytrue, y_pred=score>best_thresh)\n",
    "s_rec = sklearn.metrics.recall_score(y_true=ytrue, y_pred=score>best_thresh)\n",
    "s_f1 = sklearn.metrics.f1_score(y_true=ytrue, y_pred=score>best_thresh)\n",
    "\n",
    "print('[Single word examples] prec: %.4f, rec: %.4f, f1: %.4f'%(s_prec, s_rec, s_f1))"
   ]
  },
  {
   "cell_type": "code",
   "execution_count": 6,
   "metadata": {},
   "outputs": [
    {
     "name": "stdout",
     "output_type": "stream",
     "text": [
      "[Multiple word examples] prec: 0.7964, rec: 0.8687, f1: 0.8310\n",
      "[Multiple word examples] prec: 0.8028, rec: 0.8682, f1: 0.8343\n"
     ]
    }
   ],
   "source": [
    "# eval on multiple word examples\n",
    "mult_examples = val_df.iloc[val_mult_idx]\n",
    "score = mult_examples.score\n",
    "ytrue = mult_examples.ytrue\n",
    "\n",
    "prec, rec, thresh = sklearn.metrics.precision_recall_curve(y_true=ytrue, probas_pred=score)\n",
    "f1 = 2 * (prec * rec) / (prec + rec)\n",
    "f1[np.isnan(f1)] = 0.\n",
    "best_i = f1.argmax()\n",
    "best_thresh = thresh[best_i]\n",
    "print('[Multiple word examples] prec: %.4f, rec: %.4f, f1: %.4f'%(prec[best_i], rec[best_i], f1[best_i]))\n",
    "\n",
    "# eval_on multple word examples\n",
    "mult_examples = test_df.iloc[test_mult_idx]\n",
    "score = mult_examples.score\n",
    "ytrue = mult_examples.ytrue\n",
    "\n",
    "m_prec = sklearn.metrics.precision_score(y_true=ytrue, y_pred=score>best_thresh)\n",
    "m_rec = sklearn.metrics.recall_score(y_true=ytrue, y_pred=score>best_thresh)\n",
    "m_f1 = sklearn.metrics.f1_score(y_true=ytrue, y_pred=score>best_thresh)\n",
    "\n",
    "print('[Multiple word examples] prec: %.4f, rec: %.4f, f1: %.4f'%(m_prec, m_rec, m_f1))"
   ]
  },
  {
   "cell_type": "code",
   "execution_count": 7,
   "metadata": {},
   "outputs": [
    {
     "name": "stdout",
     "output_type": "stream",
     "text": [
      "[All examples] prec: 0.8251, rec: 0.8419, f1: 0.8334\n"
     ]
    }
   ],
   "source": [
    "# eval on all examples\n",
    "score = val_df.score\n",
    "ytrue = val_df.ytrue\n",
    "\n",
    "prec, rec, thresh = sklearn.metrics.precision_recall_curve(y_true=ytrue, probas_pred=score)\n",
    "f1 = 2 * (prec * rec) / (prec + rec)\n",
    "f1[np.isnan(f1)] = 0.\n",
    "best_i = f1.argmax()\n",
    "best_thresh = thresh[best_i]\n",
    "\n",
    "# eval_on multple word examples\n",
    "score = test_df.score\n",
    "ytrue = test_df.ytrue\n",
    "\n",
    "a_prec = sklearn.metrics.precision_score(y_true=ytrue, y_pred=score>best_thresh)\n",
    "a_rec = sklearn.metrics.recall_score(y_true=ytrue, y_pred=score>best_thresh)\n",
    "a_f1 = sklearn.metrics.f1_score(y_true=ytrue, y_pred=score>best_thresh)\n",
    "\n",
    "print('[All examples] prec: %.4f, rec: %.4f, f1: %.4f'%(a_prec, a_rec, a_f1))"
   ]
  },
  {
   "cell_type": "code",
   "execution_count": 8,
   "metadata": {},
   "outputs": [
    {
     "name": "stdout",
     "output_type": "stream",
     "text": [
      "prec: 82.51/84.52/80.28\n",
      "rec: 84.19/81.85/86.82\n",
      "f1: 83.34/83.16/83.43\n"
     ]
    }
   ],
   "source": [
    "print('prec: %.2f/%.2f/%.2f'% (100*a_prec, 100*s_prec, 100*m_prec))\n",
    "print('rec: %.2f/%.2f/%.2f'% (100*a_rec, 100*s_rec, 100*m_rec))\n",
    "print('f1: %.2f/%.2f/%.2f'% (100*a_f1, 100*s_f1, 100*m_f1))"
   ]
  },
  {
   "cell_type": "code",
   "execution_count": null,
   "metadata": {
    "collapsed": true
   },
   "outputs": [],
   "source": []
  }
 ],
 "metadata": {
  "kernelspec": {
   "display_name": "Python 2",
   "language": "python",
   "name": "python2"
  },
  "language_info": {
   "codemirror_mode": {
    "name": "ipython",
    "version": 2
   },
   "file_extension": ".py",
   "mimetype": "text/x-python",
   "name": "python",
   "nbconvert_exporter": "python",
   "pygments_lexer": "ipython2",
   "version": "2.7.13"
  },
  "widgets": {
   "state": {},
   "version": "1.1.2"
  }
 },
 "nbformat": 4,
 "nbformat_minor": 2
}
